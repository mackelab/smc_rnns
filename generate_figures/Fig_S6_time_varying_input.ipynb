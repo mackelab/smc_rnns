{
 "cells": [
  {
   "cell_type": "code",
   "execution_count": 1,
   "id": "ea98285b",
   "metadata": {
    "metadata": {}
   },
   "outputs": [],
   "source": [
    "import numpy as np\n",
    "import torch\n",
    "import torch.nn as nn\n",
    "import sys\n",
    "\n",
    "sys.path.append(\"../\")\n",
    "from vi_rnn.vae import VAE\n",
    "from vi_rnn.train import train_VAE\n",
    "from vi_rnn.datasets import RDM, RDM_Teacher\n",
    "\n",
    "from py_rnn.train import save_rnn, load_rnn\n",
    "from vi_rnn.utils import *\n",
    "import matplotlib.pyplot as plt\n",
    "from vi_rnn.saving import save_model, load_model\n",
    "from vi_rnn.generate import generate\n",
    "from vi_rnn.utils import *\n",
    "import matplotlib as mpl\n",
    "from fixed_points.find_fixed_points_analytic import find_fixed_points_analytic\n",
    "from fixed_points.stability import PL_Jacobian\n",
    "from matplotlib.markers import MarkerStyle\n",
    "from matplotlib.colors import colorConverter as cc\n",
    "\n",
    "%matplotlib inline"
   ]
  },
  {
   "cell_type": "code",
   "execution_count": 2,
   "id": "8a4031f4",
   "metadata": {
    "metadata": {}
   },
   "outputs": [],
   "source": [
    "data_dir = \"../data/student_teacher/\"  # store inferred model\n",
    "model_dir = \"../models/students/\"  # store teacher RNN\n",
    "cuda = True  # toggle if GPU is available"
   ]
  },
  {
   "cell_type": "code",
   "execution_count": 3,
   "id": "594e63cf",
   "metadata": {
    "metadata": {}
   },
   "outputs": [
    {
     "name": "stdout",
     "output_type": "stream",
     "text": [
      "using uniform init\n",
      "Warning: encoder not recognised, continuing without encoder\n",
      "key transition.hz not found in rnn, deleted\n"
     ]
    }
   ],
   "source": [
    "# load teacher\n",
    "rnn_reach, model_params, task_params_teacher, training_params_teacher = load_rnn(\n",
    "    data_dir + \"rdm_rnn\"\n",
    ")\n",
    "U, V, B = extract_orth_basis_rnn(rnn_reach)\n",
    "I = rnn_reach.rnn.w_inp.detach()\n",
    "\n",
    "# load student\n",
    "vae, training_params, task_params = load_model(\n",
    "    name=model_dir + \"rdm_student_new\", backward_compat=True\n",
    ")\n",
    "vae = orthogonalise_network(vae)\n",
    "tau, pV, pU, pB, pI = get_loadings(vae)"
   ]
  },
  {
   "cell_type": "code",
   "execution_count": 4,
   "id": "0aa4fd78",
   "metadata": {},
   "outputs": [],
   "source": [
    "# make data / task\n",
    "task_params_teacher[\"response_dur\"] = 50\n",
    "batch_size = 12\n",
    "task_params[\"n_trials\"] = batch_size\n",
    "task_params[\"sim_v\"] = True\n",
    "task = RDM_Teacher(task_params, task_params_teacher, U, V, B, I, decay=0.9)\n",
    "ratesGT = task.data\n",
    "latent_codeGT = task.latents\n",
    "\n",
    "# run the student RNN\n",
    "with torch.no_grad():\n",
    "\n",
    "    Z, v, data_gen, rates_gen = generate(\n",
    "        vae, u=  task.stim, x=task.data, initial_state=torch.zeros(batch_size, 1,1), k=1, dur = task.dur\n",
    "    )\n",
    "    Zn = Z.cpu().detach().numpy()[:, :, :, 0]\n"
   ]
  },
  {
   "cell_type": "code",
   "execution_count": 5,
   "id": "c5ca16a2",
   "metadata": {},
   "outputs": [
    {
     "name": "stdout",
     "output_type": "stream",
     "text": [
      "60\n",
      "2\n",
      "(120, 60)\n",
      "(61, 60)\n",
      "Found a fixed point\n",
      "[9.23370353]\n",
      "Found a fixed point\n",
      "[-11.06482061]\n",
      "Found a fixed point\n",
      "[-0.36214173]\n",
      "Done, found 3 fixed points\n",
      "60\n",
      "2\n",
      "(120, 60)\n",
      "(61, 60)\n",
      "Found a fixed point\n",
      "[9.30420232]\n",
      "Found a fixed point\n",
      "[-11.00556326]\n",
      "Found a fixed point\n",
      "[-0.54020103]\n",
      "Done, found 3 fixed points\n"
     ]
    }
   ],
   "source": [
    "# Get all fixed points of teacher RNN\n",
    "D_list, D_inds, z_listGT, n_inverses = find_fixed_points_analytic(\n",
    "    np.ones(1) * 0.9, V.numpy(), U.numpy(), 0, -B.numpy()\n",
    ")\n",
    "\n",
    "# Get all fixed points of student RNN\n",
    "D_list, D_inds, z_list, n_inverses = find_fixed_points_analytic(\n",
    "    np.array([tau]), pV, pU, 0, pB\n",
    ")"
   ]
  },
  {
   "cell_type": "code",
   "execution_count": 6,
   "id": "4de32f82",
   "metadata": {},
   "outputs": [
    {
     "name": "stderr",
     "output_type": "stream",
     "text": [
      "/tmp/ipykernel_100341/953745694.py:15: UserWarning: The use of `x.T` on tensors of dimension other than 2 to reverse their shape is deprecated and it will throw an error in a future release. Consider `x.mT` to transpose batches of matrices or `x.permute(*torch.arange(x.ndim - 1, -1, -1))` to reverse the dimensions of a tensor. (Triggered internally at ../aten/src/ATen/native/TensorShape.cpp:3675.)\n",
      "  ax[2].plot(Z[i, 0, :, 0].T, v[i, 0, :, 0].T, color=colors[i % 6])\n"
     ]
    },
    {
     "data": {
      "image/png": "[encoded data removed]",
      "text/plain": [
       "<Figure size 500x100 with 3 Axes>"
      ]
     },
     "metadata": {},
     "output_type": "display_data"
    }
   ],
   "source": [
    "# make plot\n",
    "\n",
    "with mpl.rc_context(fname=\"matplotlibrc\"):\n",
    "\n",
    "    colors = [\n",
    "        \"darkred\",\n",
    "        \"firebrick\",\n",
    "        \"tomato\",\n",
    "        \"darkturquoise\",\n",
    "        \"teal\",\n",
    "        \"darkslategrey\",\n",
    "    ]\n",
    "    fig, ax = plt.subplots(1, 3, figsize=(5, 1))\n",
    "    for i in range(6):\n",
    "        ax[2].plot(Z[i, 0, :, 0].T, v[i, 0, :, 0].T, color=colors[i % 6])\n",
    "        latent_code = task.latents[i]\n",
    "        task_v = task.v[i]\n",
    "        ax[1].plot(latent_code[0], task_v[0], color=colors[i % 6])\n",
    "        ax[0].plot(task.stim[i, 0], color=colors[i % 6])\n",
    "    ax[1].set_xlabel(r\"$z$\")\n",
    "    ax[1].set_ylabel(r\"$\\tilde{s}$\")\n",
    "    ax[0].set_ylabel(r\"$s$\")\n",
    "    ax[0].set_xlabel(\"timesteps\")\n",
    "    ax[2].set_xlabel(r\"$z$\")\n",
    "    ax[1].set_title(\"teacher\")\n",
    "    ax[2].set_title(\"student\")\n",
    "    # marker style\n",
    "    dot_s = 10\n",
    "    dot_z = 100\n",
    "    dot_ew = 0.4\n",
    "    dot_s_st = 20\n",
    "    dot_fill = \"gainsboro\"\n",
    "\n",
    "    # Calculate stability of fixed points and plots\n",
    "    for z in z_list:\n",
    "        e, vec = np.linalg.eig(PL_Jacobian(pV, pU, -pB, np.diag(np.ones(1) * tau), z))\n",
    "        if e[0] > 1:\n",
    "            ax[2].scatter(\n",
    "                z[0],\n",
    "                0,\n",
    "                s=dot_s,\n",
    "                c=dot_fill,\n",
    "                edgecolor=\"black\",\n",
    "                lw=dot_ew,\n",
    "                marker=MarkerStyle(\"o\"),\n",
    "                zorder=dot_z,\n",
    "            )\n",
    "        else:\n",
    "            ax[2].scatter(\n",
    "                z[0],\n",
    "                0,\n",
    "                s=dot_s,\n",
    "                c=\"black\",\n",
    "                edgecolor=\"black\",\n",
    "                lw=dot_ew,\n",
    "                marker=MarkerStyle(\"o\"),\n",
    "                zorder=dot_z,\n",
    "            )\n",
    "\n",
    "    for z in z_listGT:\n",
    "        e, vec = np.linalg.eig(\n",
    "            PL_Jacobian(V.numpy(), U.numpy(), B.numpy(), np.diag(np.ones(1) * 0.9), z)\n",
    "        )\n",
    "        if e[0] > 1:\n",
    "            ax[1].scatter(\n",
    "                z[0],\n",
    "                0,\n",
    "                s=dot_s,\n",
    "                c=dot_fill,\n",
    "                edgecolor=\"black\",\n",
    "                lw=dot_ew,\n",
    "                marker=MarkerStyle(\"o\"),\n",
    "                zorder=dot_z,\n",
    "            )\n",
    "        else:\n",
    "            ax[1].scatter(\n",
    "                z[0],\n",
    "                0,\n",
    "                s=dot_s,\n",
    "                c=\"black\",\n",
    "                edgecolor=\"black\",\n",
    "                lw=dot_ew,\n",
    "                marker=MarkerStyle(\"o\"),\n",
    "                zorder=dot_z,\n",
    "            )\n",
    "\n",
    "    ax[1].set_xlim(-15, 15)\n",
    "    ax[1].set_ylim(-0.6, 0.6)\n",
    "    ax[2].set_xlim(-15, 15)\n",
    "    ax[2].set_ylim(-0.6, 0.6)\n",
    "    ax[2].set_ylim(-0.6, 0.6)\n",
    "    ax[0].set_box_aspect(1)\n",
    "    ax[1].set_box_aspect(1)\n",
    "    ax[2].set_box_aspect(1)\n",
    "    ax[2].set_yticklabels([])\n",
    "    ax[0].set_yticks([-0.5, 0, 0.5])\n",
    "    plt.subplots_adjust(wspace=0.5)\n",
    "\n",
    "    ax[0].set_yticklabels([\"-.5\", \"0\", \".5\"])\n",
    "    ax[1].set_yticks([-0.5, 0, 0.5])\n",
    "    ax[1].set_yticklabels([\"-.5\", \"0\", \".5\"])\n",
    "    ax[0].set_xlim(0, 100)\n",
    "    ax[0].set_title(\"inputs\")\n",
    "    plt.savefig(\"../figures/inputs.pdf\")\n",
    "    plt.savefig(\"../figures/inputs.png\")"
   ]
  },
  {
   "cell_type": "code",
   "execution_count": null,
   "id": "e2cdf39e",
   "metadata": {},
   "outputs": [],
   "source": []
  }
 ],
 "metadata": {
  "kernelspec": {
   "display_name": "smc_rnn_env",
   "language": "python",
   "name": "python3"
  },
  "language_info": {
   "codemirror_mode": {
    "name": "ipython",
    "version": 3
   },
   "file_extension": ".py",
   "mimetype": "text/x-python",
   "name": "python",
   "nbconvert_exporter": "python",
   "pygments_lexer": "ipython3",
   "version": "3.9.19"
  },
  "toc": {
   "base_numbering": 1,
   "nav_menu": {},
   "number_sections": true,
   "sideBar": true,
   "skip_h1_title": false,
   "title_cell": "Table of Contents",
   "title_sidebar": "Contents",
   "toc_cell": false,
   "toc_position": {},
   "toc_section_display": true,
   "toc_window_display": false
  }
 },
 "nbformat": 4,
 "nbformat_minor": 5
}
