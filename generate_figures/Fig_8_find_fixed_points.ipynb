{
 "cells": [
  {
   "cell_type": "code",
   "execution_count": 1,
   "metadata": {
    "metadata": {}
   },
   "outputs": [],
   "source": [
    "import numpy as np\n",
    "import torch\n",
    "import sys\n",
    "\n",
    "sys.path.append(\"../\")\n",
    "from fixed_points.find_fixed_points_analytic import find_fixed_points_analytic\n",
    "from fixed_points.constrained_scify import run_scify\n",
    "from py_rnn.train import load_rnn\n",
    "import matplotlib.pyplot as plt\n",
    "import matplotlib as mpl\n",
    "\n",
    "%matplotlib inline"
   ]
  },
  {
   "cell_type": "code",
   "execution_count": 2,
   "metadata": {
    "metadata": {}
   },
   "outputs": [],
   "source": [
    "# Extract loadings of RNN\n",
    "rnn_osc, model_params, task_params, training_params = load_rnn(\n",
    "    \"../data/student_teacher/reach_rnn\"\n",
    ")\n",
    "alpha = rnn_osc.rnn.dt / rnn_osc.rnn.tau\n",
    "z = np.ones(2)\n",
    "W2 = torch.clone(rnn_osc.rnn.m.detach()).numpy()\n",
    "W1 = torch.clone(rnn_osc.rnn.n.detach() / model_params[\"n_rec\"]).numpy() * alpha\n",
    "decay = 1 - alpha\n",
    "a = np.ones(2) * decay\n",
    "A = np.diag(a)\n",
    "h2 = rnn_osc.rnn.b_rec.detach().numpy()\n",
    "h1 = np.zeros(2)"
   ]
  },
  {
   "cell_type": "code",
   "execution_count": 5,
   "metadata": {},
   "outputs": [
    {
     "name": "stdout",
     "output_type": "stream",
     "text": [
      "1770\n",
      "4\n",
      "(7080, 60)\n",
      "(1831, 60)\n",
      "Found a fixed point\n",
      "[-0.13393485  0.25492366]\n",
      "Found a fixed point\n",
      "[-0.31180563  0.12591459]\n",
      "Found a fixed point\n",
      "[-0.24347005  0.1895023 ]\n",
      "Found a fixed point\n",
      "[0.15928393 0.21794323]\n",
      "Found a fixed point\n",
      "[0.19961786 0.1635346 ]\n",
      "Found a fixed point\n",
      "[0.08357507 0.24263358]\n",
      "Found a fixed point\n",
      "[-0.3102192   0.01322508]\n",
      "Found a fixed point\n",
      "[ 0.08958839 -0.26826505]\n",
      "Found a fixed point\n",
      "[-0.29010779 -0.08888492]\n",
      "Found a fixed point\n",
      "[-0.1163622  -0.25348051]\n",
      "Found a fixed point\n",
      "[-0.2149576  -0.16604221]\n",
      "Found a fixed point\n",
      "[-0.0054343  -0.26505322]\n",
      "Found a fixed point\n",
      "[ 0.26673279 -0.16142346]\n",
      "Found a fixed point\n",
      "[0.28726144 0.03764538]\n",
      "Found a fixed point\n",
      "[ 0.29781013 -0.06441709]\n",
      "Found a fixed point\n",
      "[ 0.18220259 -0.22059557]\n",
      "Found a fixed point\n",
      "[-0.05856129  0.02399049]\n",
      "Done, found 17 fixed points\n"
     ]
    }
   ],
   "source": [
    "# obtain fixed points using analytic method\n",
    "D_list, D_inds, z_list, n_inverses_an = find_fixed_points_analytic(a, W1, W2, h1, -h2)\n",
    "true_n_fps = len(z_list)"
   ]
  },
  {
   "cell_type": "code",
   "execution_count": 4,
   "metadata": {
    "metadata": {}
   },
   "outputs": [
    {
     "name": "stdout",
     "output_type": "stream",
     "text": [
      "iteration  0\n",
      "iteration  1\n",
      "iteration  2\n",
      "iteration  3\n"
     ]
    },
    {
     "ename": "KeyboardInterrupt",
     "evalue": "",
     "output_type": "error",
     "traceback": [
      "\u001b[0;31m---------------------------------------------------------------------------\u001b[0m",
      "\u001b[0;31mKeyboardInterrupt\u001b[0m                         Traceback (most recent call last)",
      "Cell \u001b[0;32mIn[4], line 16\u001b[0m\n\u001b[1;32m     14\u001b[0m inverses_constrain \u001b[38;5;241m=\u001b[39m []\n\u001b[1;32m     15\u001b[0m \u001b[38;5;28;01mfor\u001b[39;00m n_inverses_max \u001b[38;5;129;01min\u001b[39;00m n_inverses_maxs:\n\u001b[0;32m---> 16\u001b[0m     dyn_objects, eigenvals, n_inverses \u001b[38;5;241m=\u001b[39m \u001b[43mrun_scify\u001b[49m\u001b[43m(\u001b[49m\n\u001b[1;32m     17\u001b[0m \u001b[43m        \u001b[49m\u001b[43mA\u001b[49m\u001b[43m,\u001b[49m\n\u001b[1;32m     18\u001b[0m \u001b[43m        \u001b[49m\u001b[43mW1\u001b[49m\u001b[43m,\u001b[49m\n\u001b[1;32m     19\u001b[0m \u001b[43m        \u001b[49m\u001b[43mW2\u001b[49m\u001b[43m,\u001b[49m\n\u001b[1;32m     20\u001b[0m \u001b[43m        \u001b[49m\u001b[43mh1\u001b[49m\u001b[43m,\u001b[49m\n\u001b[1;32m     21\u001b[0m \u001b[43m        \u001b[49m\u001b[43mh2\u001b[49m\u001b[43m,\u001b[49m\n\u001b[1;32m     22\u001b[0m \u001b[43m        \u001b[49m\u001b[43mconstrain\u001b[49m\u001b[38;5;241;43m=\u001b[39;49m\u001b[38;5;28;43;01mFalse\u001b[39;49;00m\u001b[43m,\u001b[49m\n\u001b[1;32m     23\u001b[0m \u001b[43m        \u001b[49m\u001b[43mn_inverses_max\u001b[49m\u001b[38;5;241;43m=\u001b[39;49m\u001b[43mn_inverses_max\u001b[49m\u001b[43m,\u001b[49m\n\u001b[1;32m     24\u001b[0m \u001b[43m        \u001b[49m\u001b[43mround_dec\u001b[49m\u001b[38;5;241;43m=\u001b[39;49m\u001b[43mround_dec\u001b[49m\u001b[43m,\u001b[49m\n\u001b[1;32m     25\u001b[0m \u001b[43m        \u001b[49m\u001b[43mouter_loop_iterations\u001b[49m\u001b[38;5;241;43m=\u001b[39;49m\u001b[43mmax_outer\u001b[49m\u001b[43m,\u001b[49m\n\u001b[1;32m     26\u001b[0m \u001b[43m    \u001b[49m\u001b[43m)\u001b[49m\n\u001b[1;32m     27\u001b[0m     results\u001b[38;5;241m.\u001b[39mappend(\u001b[38;5;28mlen\u001b[39m(dyn_objects[\u001b[38;5;241m0\u001b[39m]))\n\u001b[1;32m     28\u001b[0m     \u001b[38;5;28;01massert\u001b[39;00m n_inverses \u001b[38;5;241m==\u001b[39m n_inverses_max\n",
      "File \u001b[0;32m~/smc_rnns/generate_figures/../fixed_points/constrained_scify.py:279\u001b[0m, in \u001b[0;36mrun_scify\u001b[0;34m(A, W1, W2, h1, h2, order, outer_loop_iterations, inner_loop_iterations, round_dec, constrain, n_inverses_max)\u001b[0m\n\u001b[1;32m    277\u001b[0m n_inverses \u001b[38;5;241m=\u001b[39m []\n\u001b[1;32m    278\u001b[0m \u001b[38;5;28;01mfor\u001b[39;00m i \u001b[38;5;129;01min\u001b[39;00m \u001b[38;5;28mrange\u001b[39m(\u001b[38;5;241m1\u001b[39m, order \u001b[38;5;241m+\u001b[39m \u001b[38;5;241m1\u001b[39m):\n\u001b[0;32m--> 279\u001b[0m     cycles_found, eigvals, n_inverses_ \u001b[38;5;241m=\u001b[39m \u001b[43mscy_fi\u001b[49m\u001b[43m(\u001b[49m\n\u001b[1;32m    280\u001b[0m \u001b[43m        \u001b[49m\u001b[43mA\u001b[49m\u001b[43m,\u001b[49m\n\u001b[1;32m    281\u001b[0m \u001b[43m        \u001b[49m\u001b[43mW1\u001b[49m\u001b[43m,\u001b[49m\n\u001b[1;32m    282\u001b[0m \u001b[43m        \u001b[49m\u001b[43mW2\u001b[49m\u001b[43m,\u001b[49m\n\u001b[1;32m    283\u001b[0m \u001b[43m        \u001b[49m\u001b[43mh1\u001b[49m\u001b[43m,\u001b[49m\n\u001b[1;32m    284\u001b[0m \u001b[43m        \u001b[49m\u001b[43mh2\u001b[49m\u001b[43m,\u001b[49m\n\u001b[1;32m    285\u001b[0m \u001b[43m        \u001b[49m\u001b[43mi\u001b[49m\u001b[43m,\u001b[49m\n\u001b[1;32m    286\u001b[0m \u001b[43m        \u001b[49m\u001b[43mfound_lower_orders\u001b[49m\u001b[43m,\u001b[49m\n\u001b[1;32m    287\u001b[0m \u001b[43m        \u001b[49m\u001b[43mouter_loop_iterations\u001b[49m\u001b[38;5;241;43m=\u001b[39;49m\u001b[43mouter_loop_iterations\u001b[49m\u001b[43m,\u001b[49m\n\u001b[1;32m    288\u001b[0m \u001b[43m        \u001b[49m\u001b[43minner_loop_iterations\u001b[49m\u001b[38;5;241;43m=\u001b[39;49m\u001b[43minner_loop_iterations\u001b[49m\u001b[43m,\u001b[49m\n\u001b[1;32m    289\u001b[0m \u001b[43m        \u001b[49m\u001b[43mround_dec\u001b[49m\u001b[38;5;241;43m=\u001b[39;49m\u001b[43mround_dec\u001b[49m\u001b[43m,\u001b[49m\n\u001b[1;32m    290\u001b[0m \u001b[43m        \u001b[49m\u001b[43mconstrain\u001b[49m\u001b[38;5;241;43m=\u001b[39;49m\u001b[43mconstrain\u001b[49m\u001b[43m,\u001b[49m\n\u001b[1;32m    291\u001b[0m \u001b[43m        \u001b[49m\u001b[43mn_inverses_max\u001b[49m\u001b[38;5;241;43m=\u001b[39;49m\u001b[43mn_inverses_max\u001b[49m\u001b[43m,\u001b[49m\n\u001b[1;32m    292\u001b[0m \u001b[43m    \u001b[49m\u001b[43m)\u001b[49m\n\u001b[1;32m    293\u001b[0m     found_lower_orders\u001b[38;5;241m.\u001b[39mappend(cycles_found)\n\u001b[1;32m    294\u001b[0m     found_eigvals\u001b[38;5;241m.\u001b[39mappend(eigvals)\n",
      "File \u001b[0;32m~/smc_rnns/generate_figures/../fixed_points/constrained_scify.py:199\u001b[0m, in \u001b[0;36mscy_fi\u001b[0;34m(A, W1, W2, h1, h2, order, found_lower_orders, outer_loop_iterations, inner_loop_iterations, round_dec, constrain, n_inverses_max)\u001b[0m\n\u001b[1;32m    197\u001b[0m trajectory_relu_matrix_list \u001b[38;5;241m=\u001b[39m np\u001b[38;5;241m.\u001b[39mempty((hidden_dim, hidden_dim, order))\n\u001b[1;32m    198\u001b[0m \u001b[38;5;28;01mfor\u001b[39;00m j \u001b[38;5;129;01min\u001b[39;00m \u001b[38;5;28mrange\u001b[39m(order):\n\u001b[0;32m--> 199\u001b[0m     trajectory_relu_matrix_list[:, :, j] \u001b[38;5;241m=\u001b[39m \u001b[43mnp\u001b[49m\u001b[38;5;241;43m.\u001b[39;49m\u001b[43mdiag\u001b[49m\u001b[43m(\u001b[49m\n\u001b[1;32m    200\u001b[0m \u001b[43m        \u001b[49m\u001b[43m(\u001b[49m\u001b[43mW2\u001b[49m\u001b[38;5;241;43m.\u001b[39;49m\u001b[43mdot\u001b[49m\u001b[43m(\u001b[49m\u001b[43mtrajectory\u001b[49m\u001b[43m[\u001b[49m\u001b[43mj\u001b[49m\u001b[43m]\u001b[49m\u001b[43m)\u001b[49m\u001b[43m \u001b[49m\u001b[38;5;241;43m+\u001b[39;49m\u001b[43m \u001b[49m\u001b[43mh2\u001b[49m\u001b[43m)\u001b[49m\u001b[43m \u001b[49m\u001b[38;5;241;43m>\u001b[39;49m\u001b[43m \u001b[49m\u001b[38;5;241;43m0\u001b[39;49m\n\u001b[1;32m    201\u001b[0m \u001b[43m    \u001b[49m\u001b[43m)\u001b[49m\n\u001b[1;32m    202\u001b[0m \u001b[38;5;28;01mfor\u001b[39;00m j \u001b[38;5;129;01min\u001b[39;00m \u001b[38;5;28mrange\u001b[39m(order):\n\u001b[1;32m    203\u001b[0m     difference_relu_matrices \u001b[38;5;241m=\u001b[39m np\u001b[38;5;241m.\u001b[39msum(\n\u001b[1;32m    204\u001b[0m         np\u001b[38;5;241m.\u001b[39mabs(\n\u001b[1;32m    205\u001b[0m             trajectory_relu_matrix_list[:, :, j]\n\u001b[1;32m    206\u001b[0m             \u001b[38;5;241m-\u001b[39m relu_matrix_list[:, :, j]\n\u001b[1;32m    207\u001b[0m         )\n\u001b[1;32m    208\u001b[0m     )\n",
      "File \u001b[0;32m~/miniconda3/envs/smc_rnn_env/lib/python3.9/site-packages/numpy/lib/twodim_base.py:298\u001b[0m, in \u001b[0;36mdiag\u001b[0;34m(v, k)\u001b[0m\n\u001b[1;32m    296\u001b[0m     \u001b[38;5;28;01melse\u001b[39;00m:\n\u001b[1;32m    297\u001b[0m         i \u001b[38;5;241m=\u001b[39m (\u001b[38;5;241m-\u001b[39mk) \u001b[38;5;241m*\u001b[39m n\n\u001b[0;32m--> 298\u001b[0m     \u001b[43mres\u001b[49m\u001b[43m[\u001b[49m\u001b[43m:\u001b[49m\u001b[43mn\u001b[49m\u001b[38;5;241;43m-\u001b[39;49m\u001b[43mk\u001b[49m\u001b[43m]\u001b[49m\u001b[38;5;241m.\u001b[39mflat[i::n\u001b[38;5;241m+\u001b[39m\u001b[38;5;241m1\u001b[39m] \u001b[38;5;241m=\u001b[39m v\n\u001b[1;32m    299\u001b[0m     \u001b[38;5;28;01mreturn\u001b[39;00m res\n\u001b[1;32m    300\u001b[0m \u001b[38;5;28;01melif\u001b[39;00m \u001b[38;5;28mlen\u001b[39m(s) \u001b[38;5;241m==\u001b[39m \u001b[38;5;241m2\u001b[39m:\n",
      "\u001b[0;31mKeyboardInterrupt\u001b[0m: "
     ]
    }
   ],
   "source": [
    "# Run approximate methods\n",
    "\n",
    "n_iterations = 20  # run mutliple times to get distribution over n fps found\n",
    "all_results = []\n",
    "all_results_constrain = []\n",
    "n_inverses_maxs = np.arange(1000, 7001, 500)\n",
    "max_outer = 10e6  # some large number so scify will run till n_inverses_max is reached (this is asserted)\n",
    "round_dec = 4  # 2 seems to be to little (some fps are not distinguished)\n",
    "for i in range(n_iterations):\n",
    "    print(\"iteration \", i)\n",
    "    results = []\n",
    "    results_constrain = []\n",
    "    inverses = []\n",
    "    inverses_constrain = []\n",
    "    for n_inverses_max in n_inverses_maxs:\n",
    "        dyn_objects, eigenvals, n_inverses = run_scify(\n",
    "            A,\n",
    "            W1,\n",
    "            W2,\n",
    "            h1,\n",
    "            h2,\n",
    "            constrain=False,\n",
    "            n_inverses_max=n_inverses_max,\n",
    "            round_dec=round_dec,\n",
    "            outer_loop_iterations=max_outer,\n",
    "        )\n",
    "        results.append(len(dyn_objects[0]))\n",
    "        assert n_inverses == n_inverses_max\n",
    "        dyn_objects, eigenvals, n_inverses = run_scify(\n",
    "            A,\n",
    "            W1,\n",
    "            W2,\n",
    "            h1,\n",
    "            h2,\n",
    "            constrain=True,\n",
    "            n_inverses_max=n_inverses_max,\n",
    "            round_dec=round_dec,\n",
    "            outer_loop_iterations=max_outer,\n",
    "        )\n",
    "        results_constrain.append(len(dyn_objects[0]))\n",
    "    all_results.append(results)\n",
    "    all_results_constrain.append(results_constrain)\n",
    "\n",
    "all_results = np.array(all_results)\n",
    "all_results_constrain = np.array(all_results_constrain)"
   ]
  },
  {
   "cell_type": "code",
   "execution_count": null,
   "metadata": {
    "metadata": {}
   },
   "outputs": [],
   "source": [
    "# get min and mix fps found for plotting\n",
    "mean = np.mean(all_results, axis=0)\n",
    "max = np.max(all_results, axis=0)\n",
    "min = np.min(all_results, axis=0)\n",
    "mean_constrain = np.mean(all_results_constrain, axis=0)\n",
    "max_constrain = np.max(all_results_constrain, axis=0)\n",
    "min_constrain = np.min(all_results_constrain, axis=0)"
   ]
  },
  {
   "cell_type": "code",
   "execution_count": null,
   "metadata": {
    "metadata": {}
   },
   "outputs": [],
   "source": [
    "# make plot\n",
    "n_start = 2  # combined method has threshold cost\n",
    "with mpl.rc_context(fname=\"matplotlibrc\"):\n",
    "\n",
    "    plt.figure(figsize=(1, 1))\n",
    "    plt.plot(n_inverses_maxs, mean, label=\"approximate\", marker=\"o\", color=\"C0\")\n",
    "    plt.plot(\n",
    "        n_inverses_maxs[n_start:],\n",
    "        mean_constrain[n_start:],\n",
    "        label=\"combined\",\n",
    "        marker=\"o\",\n",
    "        color=\"C1\",\n",
    "    )\n",
    "    plt.fill_between(n_inverses_maxs, min, max, alpha=0.2, color=\"C0\")\n",
    "    plt.fill_between(\n",
    "        n_inverses_maxs[n_start:],\n",
    "        min_constrain[n_start:],\n",
    "        max_constrain[n_start:],\n",
    "        alpha=0.2,\n",
    "        color=\"C1\",\n",
    "    )\n",
    "    plt.scatter(\n",
    "        n_inverses_an,\n",
    "        true_n_fps,\n",
    "        zorder=1000,\n",
    "        color=\"purple\",\n",
    "        marker=\"*\",\n",
    "        s=100,\n",
    "        label=\"analytic\",\n",
    "    )\n",
    "    plt.gca().set_box_aspect(1)\n",
    "    plt.legend(loc=\"upper right\", bbox_to_anchor=(2.1, 1))\n",
    "    plt.xlabel(\"# inverses\")\n",
    "    plt.ylabel(\"# fixed points found\")\n",
    "    plt.yticks([0, 10, true_n_fps])\n",
    "    plt.ylim(10, true_n_fps + 0.75)\n",
    "    plt.xticks([1000, 4000, 7000])\n",
    "    plt.xlim(1000, 7000)\n",
    "    plt.savefig(\"../figures/FigFP.pdf\")  # , bbox_inches=\"tight\")"
   ]
  },
  {
   "cell_type": "code",
   "execution_count": null,
   "metadata": {},
   "outputs": [],
   "source": []
  }
 ],
 "metadata": {
  "kernelspec": {
   "display_name": "smc_rnn_env",
   "language": "python",
   "name": "python3"
  },
  "language_info": {
   "codemirror_mode": {
    "name": "ipython",
    "version": 3
   },
   "file_extension": ".py",
   "mimetype": "text/x-python",
   "name": "python",
   "nbconvert_exporter": "python",
   "pygments_lexer": "ipython3",
   "version": "3.9.19"
  }
 },
 "nbformat": 4,
 "nbformat_minor": 2
}
