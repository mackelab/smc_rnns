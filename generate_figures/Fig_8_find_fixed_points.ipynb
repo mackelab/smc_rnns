{
 "cells": [
  {
   "cell_type": "code",
   "execution_count": null,
   "metadata": {
    "metadata": {}
   },
   "outputs": [],
   "source": [
    "import numpy as np\n",
    "import torch\n",
    "import sys\n",
    "\n",
    "sys.path.append(\"../\")\n",
    "from fixed_points.find_fixed_points_analytic import find_fixed_points_analytic\n",
    "from fixed_points.constrained_scify import run_scify\n",
    "from py_rnn.train import load_rnn\n",
    "import matplotlib.pyplot as plt\n",
    "import matplotlib as mpl\n",
    "\n",
    "%matplotlib inline"
   ]
  },
  {
   "cell_type": "code",
   "execution_count": null,
   "metadata": {
    "metadata": {}
   },
   "outputs": [],
   "source": [
    "# Extract loadings of RNN\n",
    "rnn_osc, model_params, task_params, training_params = load_rnn(\n",
    "    \"../data/student_teacher/reach_rnn\"\n",
    ")\n",
    "alpha = rnn_osc.rnn.dt / rnn_osc.rnn.tau\n",
    "z = np.ones(2)\n",
    "W2 = torch.clone(rnn_osc.rnn.m.detach()).numpy()\n",
    "W1 = torch.clone(rnn_osc.rnn.n.detach() / model_params[\"n_rec\"]).numpy() * alpha\n",
    "decay = 1 - alpha\n",
    "a = np.ones(2) * decay\n",
    "A = np.diag(a)\n",
    "h2 = rnn_osc.rnn.b_rec.detach().numpy()\n",
    "h1 = np.zeros(2)"
   ]
  },
  {
   "cell_type": "code",
   "execution_count": null,
   "metadata": {},
   "outputs": [],
   "source": [
    "# obtain fixed points using analytic method\n",
    "D_list, D_inds, z_list, n_inverses_an = find_fixed_points_analytic(a, W1, W2, h1, -h2)\n",
    "true_n_fps = len(z_list)"
   ]
  },
  {
   "cell_type": "code",
   "execution_count": null,
   "metadata": {
    "metadata": {}
   },
   "outputs": [],
   "source": [
    "# Run approximate methods\n",
    "\n",
    "n_iterations = 20  # run mutliple times to get distribution over n fps found\n",
    "all_results = []\n",
    "all_results_constrain = []\n",
    "n_inverses_maxs = np.arange(1000, 7001, 500)\n",
    "max_outer = 10e6  # some large number so scify will run till n_inverses_max is reached (this is asserted)\n",
    "round_dec = 4  # 2 seems to be to little (some fps are not distinguished)\n",
    "for i in range(n_iterations):\n",
    "    print(\"iteration \", i)\n",
    "    results = []\n",
    "    results_constrain = []\n",
    "    inverses = []\n",
    "    inverses_constrain = []\n",
    "    for n_inverses_max in n_inverses_maxs:\n",
    "        dyn_objects, eigenvals, n_inverses = run_scify(\n",
    "            A,\n",
    "            W1,\n",
    "            W2,\n",
    "            h1,\n",
    "            h2,\n",
    "            constrain=False,\n",
    "            n_inverses_max=n_inverses_max,\n",
    "            round_dec=round_dec,\n",
    "            outer_loop_iterations=max_outer,\n",
    "        )\n",
    "        results.append(len(dyn_objects[0]))\n",
    "        assert n_inverses == n_inverses_max\n",
    "        dyn_objects, eigenvals, n_inverses = run_scify(\n",
    "            A,\n",
    "            W1,\n",
    "            W2,\n",
    "            h1,\n",
    "            h2,\n",
    "            constrain=True,\n",
    "            n_inverses_max=n_inverses_max,\n",
    "            round_dec=round_dec,\n",
    "            outer_loop_iterations=max_outer,\n",
    "        )\n",
    "        results_constrain.append(len(dyn_objects[0]))\n",
    "    all_results.append(results)\n",
    "    all_results_constrain.append(results_constrain)\n",
    "\n",
    "all_results = np.array(all_results)\n",
    "all_results_constrain = np.array(all_results_constrain)"
   ]
  },
  {
   "cell_type": "code",
   "execution_count": null,
   "metadata": {
    "metadata": {}
   },
   "outputs": [],
   "source": [
    "# get min and mix fps found for plotting\n",
    "mean = np.mean(all_results, axis=0)\n",
    "max = np.max(all_results, axis=0)\n",
    "min = np.min(all_results, axis=0)\n",
    "mean_constrain = np.mean(all_results_constrain, axis=0)\n",
    "max_constrain = np.max(all_results_constrain, axis=0)\n",
    "min_constrain = np.min(all_results_constrain, axis=0)"
   ]
  },
  {
   "cell_type": "code",
   "execution_count": null,
   "metadata": {
    "metadata": {}
   },
   "outputs": [],
   "source": [
    "# make plot\n",
    "n_start = 2  # combined method has threshold cost\n",
    "with mpl.rc_context(fname=\"matplotlibrc\"):\n",
    "\n",
    "    plt.figure(figsize=(1, 1))\n",
    "    plt.plot(n_inverses_maxs, mean, label=\"approximate\", marker=\"o\", color=\"C0\")\n",
    "    plt.plot(\n",
    "        n_inverses_maxs[n_start:],\n",
    "        mean_constrain[n_start:],\n",
    "        label=\"combined\",\n",
    "        marker=\"o\",\n",
    "        color=\"C1\",\n",
    "    )\n",
    "    plt.fill_between(n_inverses_maxs, min, max, alpha=0.2, color=\"C0\")\n",
    "    plt.fill_between(\n",
    "        n_inverses_maxs[n_start:],\n",
    "        min_constrain[n_start:],\n",
    "        max_constrain[n_start:],\n",
    "        alpha=0.2,\n",
    "        color=\"C1\",\n",
    "    )\n",
    "    plt.scatter(\n",
    "        n_inverses_an,\n",
    "        true_n_fps,\n",
    "        zorder=1000,\n",
    "        color=\"purple\",\n",
    "        marker=\"*\",\n",
    "        s=100,\n",
    "        label=\"analytic\",\n",
    "    )\n",
    "    plt.gca().set_box_aspect(1)\n",
    "    plt.legend(loc=\"upper right\", bbox_to_anchor=(2.1, 1))\n",
    "    plt.xlabel(\"# inverses\")\n",
    "    plt.ylabel(\"# fixed points found\")\n",
    "    plt.yticks([0, 10, true_n_fps])\n",
    "    plt.ylim(10, true_n_fps + 0.75)\n",
    "    plt.xticks([1000, 4000, 7000])\n",
    "    plt.xlim(1000, 7000)\n",
    "    plt.savefig(\"../figures/FigFP.pdf\")  # , bbox_inches=\"tight\")"
   ]
  },
  {
   "cell_type": "code",
   "execution_count": null,
   "metadata": {},
   "outputs": [],
   "source": []
  }
 ],
 "metadata": {
  "kernelspec": {
   "display_name": "smc_rnn_env",
   "language": "python",
   "name": "python3"
  },
  "language_info": {
   "codemirror_mode": {
    "name": "ipython",
    "version": 3
   },
   "file_extension": ".py",
   "mimetype": "text/x-python",
   "name": "python",
   "nbconvert_exporter": "python",
   "pygments_lexer": "ipython3",
   "version": "3.9.19"
  }
 },
 "nbformat": 4,
 "nbformat_minor": 2
}
