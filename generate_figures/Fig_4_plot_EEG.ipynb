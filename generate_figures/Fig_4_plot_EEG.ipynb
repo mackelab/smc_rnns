{
 "cells": [
  {
   "cell_type": "code",
   "execution_count": null,
   "id": "ea98285b",
   "metadata": {
    "metadata": {}
   },
   "outputs": [],
   "source": [
    "import numpy as np\n",
    "import torch\n",
    "\n",
    "import sys, os\n",
    "\n",
    "sys.path.append(\"../\")\n",
    "\n",
    "from vi_rnn.saving import load_model\n",
    "import matplotlib.pyplot as plt\n",
    "from vi_rnn.generate import generate\n",
    "\n",
    "%matplotlib inline\n",
    "\n",
    "# We used openly accessible electroencephalogram (EEG) data from Schalk et al. 2004\n",
    "# available from https://www.physionet.org/content/eegmmidb/1.0.0/ (Moody et al. 2000; ODC-BY licence).\n",
    "# This repo includes preprocessed data from session S001R01."
   ]
  },
  {
   "cell_type": "code",
   "execution_count": null,
   "id": "5b05c011",
   "metadata": {
    "metadata": {}
   },
   "outputs": [],
   "source": [
    "# Load model\n",
    "name = \"EEG_Inv_Obs_LRRNN_Z_Date_32024_07_29_T_17_43_46\"\n",
    "\n",
    "vae, training_params, task_params = load_model(\n",
    "    \"../models/sweep_eeg_rs/\" + name, load_encoder=False, backward_compat=True\n",
    ")\n",
    "# Load data\n",
    "raw_dat = np.load(\"../data/eeg/EEG_data_zscored.npy\")\n",
    "smooth_dat = np.load(\"../data/eeg/EEG_data_smoothed.npy\")"
   ]
  },
  {
   "cell_type": "code",
   "execution_count": null,
   "id": "afef8e84",
   "metadata": {},
   "outputs": [],
   "source": [
    "from evaluation.pse import power_spectrum_helling as pse\n",
    "from evaluation.kl_Gauss import calc_kl_from_data"
   ]
  },
  {
   "cell_type": "code",
   "execution_count": null,
   "id": "a8fe9b11",
   "metadata": {},
   "outputs": [],
   "source": [
    "raw_dat.shape"
   ]
  },
  {
   "cell_type": "code",
   "execution_count": null,
   "id": "a0c2ec42",
   "metadata": {
    "metadata": {}
   },
   "outputs": [],
   "source": [
    "# Generate data\n",
    "\n",
    "t1 = 1200\n",
    "# generate data using our fit model\n",
    "Z, _,data_gen, rates_gen = generate(\n",
    "    vae, u=None, x=torch.from_numpy(raw_dat[t1:].T.astype(np.float32)), initial_state=\"posterior_mean\", k=1, dur=800\n",
    ")\n"
   ]
  },
  {
   "cell_type": "code",
   "execution_count": null,
   "id": "3377adfc",
   "metadata": {},
   "outputs": [],
   "source": [
    "# channel names (extracted from the Physionet data using MNE (https://mne.tools/stable/index.htmlZ))\n",
    "\n",
    "channels = [\n",
    "    \"Fc5.\",\n",
    "    \"Fc3.\",\n",
    "    \"Fc1.\",\n",
    "    \"Fcz.\",\n",
    "    \"Fc2.\",\n",
    "    \"Fc4.\",\n",
    "    \"Fc6.\",\n",
    "    \"C5..\",\n",
    "    \"C3..\",\n",
    "    \"C1..\",\n",
    "    \"Cz..\",\n",
    "    \"C2..\",\n",
    "    \"C4..\",\n",
    "    \"C6..\",\n",
    "    \"Cp5.\",\n",
    "    \"Cp3.\",\n",
    "    \"Cp1.\",\n",
    "    \"Cpz.\",\n",
    "    \"Cp2.\",\n",
    "    \"Cp4.\",\n",
    "    \"Cp6.\",\n",
    "    \"Fp1.\",\n",
    "    \"Fpz.\",\n",
    "    \"Fp2.\",\n",
    "    \"Af7.\",\n",
    "    \"Af3.\",\n",
    "    \"Afz.\",\n",
    "    \"Af4.\",\n",
    "    \"Af8.\",\n",
    "    \"F7..\",\n",
    "    \"F5..\",\n",
    "    \"F3..\",\n",
    "    \"F1..\",\n",
    "    \"Fz..\",\n",
    "    \"F2..\",\n",
    "    \"F4..\",\n",
    "    \"F6..\",\n",
    "    \"F8..\",\n",
    "    \"Ft7.\",\n",
    "    \"Ft8.\",\n",
    "    \"T7..\",\n",
    "    \"T8..\",\n",
    "    \"T9..\",\n",
    "    \"T10.\",\n",
    "    \"Tp7.\",\n",
    "    \"Tp8.\",\n",
    "    \"P7..\",\n",
    "    \"P5..\",\n",
    "    \"P3..\",\n",
    "    \"P1..\",\n",
    "    \"Pz..\",\n",
    "    \"P2..\",\n",
    "    \"P4..\",\n",
    "    \"P6..\",\n",
    "    \"P8..\",\n",
    "    \"Po7.\",\n",
    "    \"Po3.\",\n",
    "    \"Poz.\",\n",
    "    \"Po4.\",\n",
    "    \"Po8.\",\n",
    "    \"O1..\",\n",
    "    \"Oz..\",\n",
    "    \"O2..\",\n",
    "    \"Iz..\",\n",
    "]"
   ]
  },
  {
   "cell_type": "code",
   "execution_count": null,
   "id": "9f7be282",
   "metadata": {
    "metadata": {}
   },
   "outputs": [],
   "source": [
    "plt_chs = [2, 9, 32, 49, 61]\n",
    "fig, axs = plt.subplots(1, 2, figsize=(3, 1))\n",
    "for i, ch_n in enumerate(plt_chs):\n",
    "    axs[1].plot(data_gen[0, ch_n, :, 0].T + i * 4, lw=1, color=\"slategrey\")\n",
    "\n",
    "t1 = 1500\n",
    "for i, ch_n in enumerate(plt_chs):\n",
    "    axs[0].plot(raw_dat[t1 : 800 + t1, ch_n].T + i * 4, lw=1, color=\"slategrey\")\n",
    "\n",
    "axs[0].set_xlim(0, 800)\n",
    "axs[1].set_xlim(0, 800)\n",
    "axs[0].set_yticks(range(0, 20, 4))\n",
    "axs[1].set_yticks(range(0, 20, 4))\n",
    "axs[0].set_yticklabels([channels[ch_n].strip(\".\") for ch_n in plt_chs])\n",
    "axs[1].set_yticklabels([])\n",
    "axs[0].set_xticks(np.arange(0, 160 * 5 + 1, 160))\n",
    "axs[0].set_xticklabels(np.arange(0, 1 * 5 + 1, 1))\n",
    "axs[1].set_yticklabels([])\n",
    "axs[1].set_xticks(np.arange(0, 160 * 5 + 1, 160))\n",
    "axs[1].set_xticklabels(np.arange(0, 1 * 5 + 1, 1))\n",
    "axs[0].set_xlabel(\"time (s)\")\n",
    "axs[0].set_title(\"EEG\")\n",
    "axs[1].set_title(\"generated\")\n",
    "axs[0].set_ylabel(\"channel name\")\n",
    "\n",
    "plt.savefig(\"../figures/fig_EEG.pdf\", bbox_inches=\"tight\")"
   ]
  },
  {
   "cell_type": "code",
   "execution_count": null,
   "id": "b2feb94e",
   "metadata": {},
   "outputs": [],
   "source": [
    "# Generate more data\n",
    "\n",
    "with torch.no_grad():\n",
    "    # generate data using our fit model\n",
    "    Z, _,data_gen, rates_gen = generate(\n",
    "        vae, u=None, x=torch.from_numpy(raw_dat.T.astype(np.float32)), initial_state=\"posterior_mean\", k=1\n",
    "    )\n"
   ]
  },
  {
   "cell_type": "code",
   "execution_count": null,
   "id": "10891e5a",
   "metadata": {},
   "outputs": [],
   "source": [
    "fig, ax = plt.subplots(1, 2, figsize=(10, 2))\n",
    "\n",
    "t = 1000\n",
    "ax[0].plot(data_gen[0, :, :t, 0].T, lw=0.2, alpha=1)\n",
    "ax[1].plot(raw_dat[:t], lw=0.2, alpha=1)\n",
    "ax[0].set_title(\"generated\")\n",
    "ax[1].set_title(\"EEG\")"
   ]
  },
  {
   "cell_type": "code",
   "execution_count": null,
   "id": "5f0605d8",
   "metadata": {},
   "outputs": [],
   "source": [
    "fig, ax = plt.subplots(1, 2, figsize=(10, 2))\n",
    "vlim = 4\n",
    "t = 5000\n",
    "ax[0].imshow(\n",
    "    data_gen[0, :, :t, 0], aspect=\"auto\", cmap=\"viridis\", vmin=-vlim, vmax=vlim\n",
    ")\n",
    "ax[1].imshow(raw_dat.T[:, :t], cmap=\"viridis\", aspect=\"auto\", vmin=-vlim, vmax=vlim)\n",
    "ax[0].set_title(\"generated\")\n",
    "ax[1].set_title(\"EEG\")"
   ]
  },
  {
   "cell_type": "code",
   "execution_count": null,
   "id": "9fb6a007",
   "metadata": {},
   "outputs": [],
   "source": []
  },
  {
   "cell_type": "code",
   "execution_count": null,
   "id": "3d334c48",
   "metadata": {},
   "outputs": [],
   "source": []
  }
 ],
 "metadata": {
  "kernelspec": {
   "display_name": "smc_rnn_env",
   "language": "python",
   "name": "python3"
  },
  "language_info": {
   "codemirror_mode": {
    "name": "ipython",
    "version": 3
   },
   "file_extension": ".py",
   "mimetype": "text/x-python",
   "name": "python",
   "nbconvert_exporter": "python",
   "pygments_lexer": "ipython3",
   "version": "3.9.19"
  },
  "toc": {
   "base_numbering": 1,
   "nav_menu": {},
   "number_sections": true,
   "sideBar": true,
   "skip_h1_title": false,
   "title_cell": "Table of Contents",
   "title_sidebar": "Contents",
   "toc_cell": false,
   "toc_position": {},
   "toc_section_display": true,
   "toc_window_display": false
  }
 },
 "nbformat": 4,
 "nbformat_minor": 5
}
