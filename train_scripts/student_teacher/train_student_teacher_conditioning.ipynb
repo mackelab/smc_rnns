{
 "cells": [
  {
   "cell_type": "code",
   "execution_count": null,
   "id": "ea98285b",
   "metadata": {
    "metadata": {}
   },
   "outputs": [],
   "source": [
    "import numpy as np\n",
    "import torch\n",
    "import torch.nn as nn\n",
    "import sys\n",
    "\n",
    "sys.path.append(\"../../\")\n",
    "from vi_rnn.vae import VAE\n",
    "from vi_rnn.train import train_VAE\n",
    "from torch.utils.data import DataLoader\n",
    "from vi_rnn.datasets import Reaching, Reaching_Teacher\n",
    "from py_rnn.model import RNN, predict\n",
    "from py_rnn.train import train_rnn\n",
    "from py_rnn.train import save_rnn, load_rnn\n",
    "from vi_rnn.utils import *\n",
    "import matplotlib.pyplot as plt\n",
    "from vi_rnn.saving import save_model, load_model\n",
    "from py_rnn.default_params import get_default_params\n",
    "\n",
    "%matplotlib inline"
   ]
  },
  {
   "cell_type": "code",
   "execution_count": null,
   "id": "8a4031f4",
   "metadata": {
    "metadata": {}
   },
   "outputs": [],
   "source": [
    "train_teacher = False  # load already trained teacher model\n",
    "data_dir = \"../../data/student_teacher/\"  # store inferred model\n",
    "model_dir = \"../../models/students/\"  # store teacher RNN\n",
    "cuda = True  # toggle if GPU is available"
   ]
  },
  {
   "cell_type": "code",
   "execution_count": null,
   "id": "c991c226",
   "metadata": {
    "metadata": {}
   },
   "outputs": [],
   "source": [
    "# initialise teacher RNN\n",
    "model_params, training_params = get_default_params(n_rec=60)\n",
    "training_params[\"n_epochs\"] = 5000\n",
    "training_params[\"l2_rates_reg\"] = 0.1\n",
    "rnn_reach = RNN(model_params)\n",
    "\n",
    "# initialise teacher RNN's task\n",
    "task_params_teacher = {\n",
    "    \"onset\": [25, 26],  # time till target stimulus onset (uniform between)\n",
    "    \"trial_len\": 150,  # trial duration\n",
    "    \"stim_dur\": [25, 26],  # target stimulus duration\n",
    "    \"n_stim\": 8,  # number of stimuli locations\n",
    "}\n",
    "reaching = Reaching(task_params_teacher)\n",
    "stimulus, target, loss_mask = reaching[1]"
   ]
  },
  {
   "cell_type": "code",
   "execution_count": null,
   "id": "9897ad38",
   "metadata": {
    "metadata": {}
   },
   "outputs": [],
   "source": [
    "# Plot an example trial for teacher RNN\n",
    "fig, axs = plt.subplots(3, 2, figsize=(6, 3))\n",
    "fig.suptitle(\"Example trial\")\n",
    "axs[0, 0].set_title(\"Input channels\")\n",
    "axs[0, 1].set_title(\"Target\")\n",
    "axs[0, 0].set_ylabel(r\"$\\sin(\\theta)$\")\n",
    "axs[1, 0].set_ylabel(r\"$\\cos(\\theta)$\")\n",
    "axs[2, 0].set_ylabel(\"mask\")\n",
    "\n",
    "for i in range(2):\n",
    "    axs[i, 0].plot(stimulus[:, i], color=\"teal\")\n",
    "    axs[i, 0].set_xlim(0, task_params_teacher[\"trial_len\"])\n",
    "    axs[i, 0].set_ylim(-1.2, 1.2)\n",
    "axs[2, 0].plot(loss_mask)\n",
    "for i in range(2):\n",
    "    axs[i, 1].plot(target[:, i], color=\"purple\")\n",
    "    axs[i, 0].set_xlim(0, task_params_teacher[\"trial_len\"])\n",
    "    axs[i, 1].set_ylim(-1.2, 1.2)\n",
    "    axs[i, 0].set_xticklabels([])\n",
    "axs[0, 1].set_xticklabels([])\n",
    "axs[2, 1].set_xlabel(\"time steps\")\n",
    "axs[2, 0].set_xlabel(\"time steps\")\n",
    "fig.delaxes(axs[2, 1])"
   ]
  },
  {
   "cell_type": "code",
   "execution_count": null,
   "id": "594e63cf",
   "metadata": {
    "metadata": {}
   },
   "outputs": [],
   "source": [
    "# train or load teacher RNN\n",
    "if train_teacher:\n",
    "    losses, reg_losses = train_rnn(\n",
    "        rnn_reach, training_params, reaching, sync_wandb=False\n",
    "    )\n",
    "    save_rnn(\n",
    "        data_dir + \"reach_rnn_new\",\n",
    "        rnn_reach,\n",
    "        model_params,\n",
    "        task_params_teacher,\n",
    "        training_params,\n",
    "    )\n",
    "else:\n",
    "    rnn_reach, model_params, task_params_teacher, training_params = load_rnn(\n",
    "        data_dir + \"reach_rnn\"\n",
    "    )"
   ]
  },
  {
   "cell_type": "code",
   "execution_count": null,
   "id": "9eaf2e0b",
   "metadata": {
    "metadata": {}
   },
   "outputs": [],
   "source": [
    "# plot example output\n",
    "rates, pred = predict(rnn_reach, torch.zeros(300, 2))\n",
    "fig, axs = plt.subplots(2, figsize=(4, 2))\n",
    "axs[0].plot(pred[0, :, :])\n",
    "axs[1].set_xlabel(\"timesteps\")\n",
    "axs[1].plot(rnn_reach.rnn.nonlinearity(torch.from_numpy(rates[0])));"
   ]
  },
  {
   "cell_type": "code",
   "execution_count": null,
   "id": "e9d13f9d",
   "metadata": {
    "metadata": {}
   },
   "outputs": [],
   "source": [
    "# Extract weights\n",
    "U, V, B = extract_orth_basis_rnn(rnn_reach)\n",
    "I = rnn_reach.rnn.w_inp.detach()"
   ]
  },
  {
   "cell_type": "code",
   "execution_count": null,
   "id": "b0808ed9",
   "metadata": {
    "metadata": {}
   },
   "outputs": [],
   "source": [
    "# Generate data using teacher RNN, used for training student RNN\n",
    "task_params = {\n",
    "    \"dur\": 250,\n",
    "    \"n_trials\": 800,\n",
    "    \"name\": \"Sine\",\n",
    "    \"n_neurons\": rnn_reach.rnn.N,\n",
    "    \"out\": \"currents\",\n",
    "    \"w\": 0.1,\n",
    "    \"R_x\": 0.05,\n",
    "    \"R_z\": 0.05,\n",
    "    \"r0\": 0,\n",
    "    \"sim_v\": False,\n",
    "    \"non_lin\": nn.ReLU(),\n",
    "}\n",
    "task_params_teacher[\"trial_len\"] = task_params[\"dur\"]\n",
    "task = Reaching_Teacher(task_params, task_params_teacher, U, V, B, I, decay=0.9)"
   ]
  },
  {
   "cell_type": "code",
   "execution_count": null,
   "id": "b7692736",
   "metadata": {},
   "outputs": [],
   "source": [
    "ti = 3\n",
    "plt.plot(task.stim[ti].T)\n",
    "plt.plot(task.v[ti].T)\n",
    "plt.plot(task.latents[ti].T)"
   ]
  },
  {
   "cell_type": "code",
   "execution_count": null,
   "id": "aac9fbb7",
   "metadata": {},
   "outputs": [],
   "source": [
    "# Plot example latents of teacher RNN\n",
    "fig, ax = plt.subplots()\n",
    "prop_cycle = [plt.cm.hsv(i) for i in np.arange(0, 1, 1 / 8)]\n",
    "ax.set_prop_cycle(\"color\", prop_cycle)\n",
    "for tr_i in range(8 * 8):\n",
    "    latent_code = task.latents[tr_i]\n",
    "    stim = task.stim[tr_i]\n",
    "    ax.plot(latent_code[0], latent_code[1], alpha=0.2)\n",
    "    ax.scatter(stim[0, 50], stim[1, 50])"
   ]
  },
  {
   "cell_type": "code",
   "execution_count": null,
   "id": "d465fb1a",
   "metadata": {},
   "outputs": [],
   "source": [
    "# Initialise VI / student setup\n",
    "\n",
    "dim_z = 2\n",
    "dim_N = task_params[\"n_neurons\"]\n",
    "dim_x = task_params[\"n_neurons\"]\n",
    "dim_u = 2\n",
    "bs = 10\n",
    "cuda = True\n",
    "n_epochs = 200\n",
    "wandb = False\n",
    "\n",
    "# initialise prior\n",
    "prior_params = {\n",
    "    \"transition\": \"low_rank\",  \n",
    "    \"observation\": \"one_to_one\",  \n",
    "    \"train_noise_x\": True,\n",
    "    \"train_noise_z\": True,\n",
    "    \"train_noise_z_t0\": True,\n",
    "    \"init_noise_z\": 0.1,\n",
    "    \"init_noise_z_t0\": 1,\n",
    "    \"init_noise_x\": task_params[\"R_x\"],\n",
    "    \"noise_z\": \"full\",\n",
    "    \"noise_x\": \"diag\",\n",
    "    \"noise_z_t0\": \"full\",\n",
    "    \"activation\": \"relu\",\n",
    "    \"decay\": 0.7,\n",
    "    \"readout_from\": task_params[\"out\"],\n",
    "    \"train_obs_bias\": False,\n",
    "    \"train_obs_weights\": False,\n",
    "    \"train_neuron_bias\": True,\n",
    "    \"weight_dist\": \"uniform\",\n",
    "    \"initial_state\": \"trainable\",\n",
    "    \"obs_nonlinearity\": \"identity\",\n",
    "    \"obs_likelihood\": \"Gauss\",\n",
    "    \"simulate_input\": True,\n",
    "\n",
    "}\n",
    "\n",
    "\n",
    "training_params = {\n",
    "    \"lr\": 1e-3,\n",
    "    \"lr_end\": 1e-5,\n",
    "    \"opt_eps\": 1e-8,\n",
    "    \"n_epochs\": n_epochs,\n",
    "    \"grad_norm\": 0,\n",
    "    \"eval_epochs\": 50,\n",
    "    \"batch_size\": bs,\n",
    "    \"cuda\": cuda,\n",
    "    \"smoothing\": 20,\n",
    "    \"freq_cut_off\": 10000,\n",
    "    \"k\": 64,\n",
    "    \"loss_f\": \"opt_smc\",\n",
    "    \"resample\": \"systematic\",  # , multinomial or none\"\n",
    "    \"run_eval\": True,\n",
    "    \"smooth_at_eval\": False,\n",
    "    \"init_state_eval\": \"posterior_sample\",\n",
    "}\n",
    "\n",
    "\n",
    "VAE_params = {\n",
    "    \"dim_x\": dim_x,\n",
    "    \"dim_z\": dim_z,\n",
    "    \"dim_u\": dim_u,\n",
    "    \"dim_N\": dim_N,\n",
    "    \"rnn_params\": prior_params,\n",
    "}\n",
    "vae = VAE(VAE_params)"
   ]
  },
  {
   "cell_type": "code",
   "execution_count": null,
   "id": "e0bfc852",
   "metadata": {},
   "outputs": [],
   "source": [
    "# Train\n",
    "train_VAE(\n",
    "    vae, \n",
    "    training_params,\n",
    "    task,\n",
    "    sync_wandb=wandb,\n",
    "    out_dir=model_dir[:-1],\n",
    "    fname=None,\n",
    "    store_train_stats=False,\n",
    ")"
   ]
  },
  {
   "cell_type": "code",
   "execution_count": null,
   "id": "bf64f50b",
   "metadata": {},
   "outputs": [],
   "source": [
    "save_model(vae, training_params, task_params, name=model_dir + \"reach_vae_new2\")"
   ]
  },
  {
   "cell_type": "code",
   "execution_count": null,
   "id": "40ec7ab5",
   "metadata": {},
   "outputs": [],
   "source": []
  }
 ],
 "metadata": {
  "kernelspec": {
   "display_name": "smc_rnn_env",
   "language": "python",
   "name": "python3"
  },
  "language_info": {
   "codemirror_mode": {
    "name": "ipython",
    "version": 3
   },
   "file_extension": ".py",
   "mimetype": "text/x-python",
   "name": "python",
   "nbconvert_exporter": "python",
   "pygments_lexer": "ipython3",
   "version": "3.9.19"
  },
  "toc": {
   "base_numbering": 1,
   "nav_menu": {},
   "number_sections": true,
   "sideBar": true,
   "skip_h1_title": false,
   "title_cell": "Table of Contents",
   "title_sidebar": "Contents",
   "toc_cell": false,
   "toc_position": {},
   "toc_section_display": true,
   "toc_window_display": false
  }
 },
 "nbformat": 4,
 "nbformat_minor": 5
}
