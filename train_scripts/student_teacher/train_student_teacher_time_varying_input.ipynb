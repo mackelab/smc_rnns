{
 "cells": [
  {
   "cell_type": "code",
   "execution_count": null,
   "id": "ea98285b",
   "metadata": {
    "metadata": {}
   },
   "outputs": [],
   "source": [
    "import numpy as np\n",
    "import torch\n",
    "import torch.nn as nn\n",
    "import sys\n",
    "\n",
    "sys.path.append(\"../../\")\n",
    "from vi_rnn.vae import VAE\n",
    "from vi_rnn.train import train_VAE\n",
    "from torch.utils.data import DataLoader\n",
    "from vi_rnn.datasets import RDM, RDM_Teacher\n",
    "from py_rnn.model import RNN, predict\n",
    "from py_rnn.train import train_rnn\n",
    "from py_rnn.train import save_rnn, load_rnn\n",
    "from vi_rnn.utils import *\n",
    "import matplotlib.pyplot as plt\n",
    "from vi_rnn.saving import save_model, load_model\n",
    "from py_rnn.default_params import get_default_params\n",
    "\n",
    "%matplotlib inline"
   ]
  },
  {
   "cell_type": "code",
   "execution_count": null,
   "id": "8a4031f4",
   "metadata": {
    "metadata": {}
   },
   "outputs": [],
   "source": [
    "train_teacher = False  # load already trained teacher model\n",
    "data_dir = \"../../data/student_teacher/\"  # store inferred model\n",
    "model_dir = \"../../models/students/\"  # store teacher RNN\n",
    "cuda = True  # toggle if GPU is available"
   ]
  },
  {
   "cell_type": "code",
   "execution_count": null,
   "id": "c991c226",
   "metadata": {
    "metadata": {}
   },
   "outputs": [],
   "source": [
    "# initialise teacher RNN\n",
    "model_params, training_params = get_default_params(n_rec=60)\n",
    "training_params[\"n_epochs\"] = 1000\n",
    "training_params[\"l2_rates_reg\"] = 0.1\n",
    "model_params[\"rank\"] = 1\n",
    "rnn_reach = RNN(model_params)"
   ]
  },
  {
   "cell_type": "code",
   "execution_count": null,
   "id": "121d28b0",
   "metadata": {},
   "outputs": [],
   "source": [
    "# Plot an example trial for teacher RNN\n",
    "\n",
    "task_params_teacher = {\n",
    "    \"name\": \"rdm\",\n",
    "    \"fixation_dur\": 5,\n",
    "    \"stimulus_dur\": 40,\n",
    "    \"delay_dur\": 5,\n",
    "    \"response_dur\": 1,\n",
    "    \"std\": 0.1,\n",
    "    \"scale\": 0.1,\n",
    "}\n",
    "rdm = RDM(task_params_teacher)\n",
    "stimulus, targets, mask = rdm.__getitem__(0)\n",
    "plt.plot(stimulus, c=\"b\", label=\"stimulus\")\n",
    "plt.plot(targets, c=\"r\", label=\"target\")\n",
    "plt.plot(mask, ls=\"--\", c=\"k\", label=\"mask\")\n",
    "plt.legend()"
   ]
  },
  {
   "cell_type": "code",
   "execution_count": null,
   "id": "594e63cf",
   "metadata": {
    "metadata": {}
   },
   "outputs": [],
   "source": [
    "# train or load teacher RNN\n",
    "if train_teacher:\n",
    "    losses, reg_losses = train_rnn(rnn_reach, training_params, rdm, sync_wandb=False)\n",
    "    save_rnn(\n",
    "        data_dir + \"rdm_rnn2\",\n",
    "        rnn_reach,\n",
    "        model_params,\n",
    "        task_params_teacher,\n",
    "        training_params,\n",
    "    )\n",
    "else:\n",
    "    rnn_reach, model_params, task_params_teacher, training_params = load_rnn(\n",
    "        data_dir + \"rdm_rnn\"\n",
    "    )"
   ]
  },
  {
   "cell_type": "code",
   "execution_count": null,
   "id": "53f6a9c0",
   "metadata": {},
   "outputs": [],
   "source": [
    "# Increase response duration -> makes it easier for student to learn fixed points\n",
    "task_params_teacher[\"response_dur\"] = 50"
   ]
  },
  {
   "cell_type": "code",
   "execution_count": null,
   "id": "9eaf2e0b",
   "metadata": {
    "metadata": {}
   },
   "outputs": [],
   "source": [
    "# plot example output\n",
    "inp = []\n",
    "for i in range(6):\n",
    "    stim, _, _ = rdm[i]\n",
    "    inp.append(stim)\n",
    "inp = torch.stack(inp)\n",
    "rates, pred = predict(rnn_reach, inp)\n",
    "fig, axs = plt.subplots(2, figsize=(4, 2))\n",
    "axs[0].plot(pred[0, :, :])\n",
    "axs[1].set_xlabel(\"timesteps\")\n",
    "axs[1].plot(rnn_reach.rnn.nonlinearity(torch.from_numpy(rates[0])));"
   ]
  },
  {
   "cell_type": "code",
   "execution_count": null,
   "id": "e9d13f9d",
   "metadata": {
    "metadata": {}
   },
   "outputs": [],
   "source": [
    "# Extract weights\n",
    "U, V, B = extract_orth_basis_rnn(rnn_reach)\n",
    "I = rnn_reach.rnn.w_inp.detach()"
   ]
  },
  {
   "cell_type": "code",
   "execution_count": null,
   "id": "b0808ed9",
   "metadata": {
    "metadata": {}
   },
   "outputs": [],
   "source": [
    "# Generate data using teacher RNN, used for training student RNN\n",
    "batch_size = 4\n",
    "task_params = {\n",
    "    \"name\": \"rdm\",\n",
    "    \"n_neurons\": rnn_reach.rnn.N,\n",
    "    \"out\": \"currents\",\n",
    "    \"r0\": 0,\n",
    "    \"R_x\": 0.1,\n",
    "    \"R_z\": 0.05,\n",
    "    \"n_trials\": 400,\n",
    "    \"sim_v\": True,\n",
    "}\n",
    "task = RDM_Teacher(task_params, task_params_teacher, U, V, B, I, decay=0.9)\n",
    "data_loader = DataLoader(task, batch_size=batch_size, shuffle=True)"
   ]
  },
  {
   "cell_type": "code",
   "execution_count": null,
   "id": "aac9fbb7",
   "metadata": {},
   "outputs": [],
   "source": [
    "# Plot example latents of teacher RNN\n",
    "colors = [\"darkred\", \"firebrick\", \"tomato\", \"darkturquoise\", \"teal\", \"darkslategrey\"]\n",
    "for tr_i in range(6):\n",
    "    latent_code = task.latents[tr_i]\n",
    "    v = task.v[tr_i]\n",
    "    stim = task.stim[tr_i]\n",
    "    plt.plot(latent_code[0], v[0], color=colors[tr_i % 6])\n",
    "    plt.xlabel(r\"$z$\")\n",
    "    plt.ylabel(r\"$v$\")"
   ]
  },
  {
   "cell_type": "code",
   "execution_count": null,
   "id": "d465fb1a",
   "metadata": {},
   "outputs": [],
   "source": [
    "# Initialise VI / student setup\n",
    "\n",
    "dim_z = 1\n",
    "dim_N = task_params[\"n_neurons\"]\n",
    "dim_x = task_params[\"n_neurons\"]\n",
    "dim_u = 1\n",
    "bs = 10\n",
    "cuda = True\n",
    "n_epochs = 500\n",
    "wandb = False\n",
    "\n",
    "# initialise prior\n",
    "prior_params = {\n",
    "    \"train_noise_x\": True,\n",
    "    \"train_noise_z\": True,\n",
    "    \"train_noise_z_t0\": True,\n",
    "    \"init_noise_z\": 0.1,\n",
    "    \"init_noise_z_t0\": 1,\n",
    "    \"init_noise_x\": task_params[\"R_x\"],\n",
    "    \"noise_z\": \"full\",\n",
    "    \"noise_x\": \"diag\",\n",
    "    \"noise_z_t0\": \"full\",\n",
    "    \"observation\": \"one_to_one\",\n",
    "    \"transition\": \"low_rank\",\n",
    "    \"activation\": \"relu\",\n",
    "    \"decay\": 0.7,\n",
    "    \"readout_from\": task_params[\"out\"],\n",
    "    \"train_obs_bias\": False,\n",
    "    \"train_obs_weights\": False,\n",
    "    \"train_neuron_bias\": True,\n",
    "    \"weight_dist\": \"uniform\",\n",
    "    \"weight_scaler\": 1,  # /dim_N,\n",
    "    \"initial_state\": \"trainable\",\n",
    "    \"obs_nonlinearity\": \"identity\",\n",
    "    \"obs_likelihood\": \"Gauss\",\n",
    "    \"simulate_input\": True\n",
    "}\n",
    "\n",
    "\n",
    "training_params = {\n",
    "    \"lr\": 1e-3,\n",
    "    \"lr_end\": 1e-5,\n",
    "    \"n_epochs\": n_epochs,\n",
    "    \"grad_norm\": 0,\n",
    "    \"eval_epochs\": 50,\n",
    "    \"batch_size\": bs,\n",
    "    \"cuda\": cuda,\n",
    "    \"smoothing\": 20,\n",
    "    \"freq_cut_off\": 10000,\n",
    "    \"k\": 64,\n",
    "    \"loss_f\": \"opt_smc\",\n",
    "    \"resample\": \"systematic\",  # , multinomial or none\"\n",
    "    \"run_eval\": True,\n",
    "    \"smooth_at_eval\": False,\n",
    "    \"init_state_eval\": \"posterior_sample\"\n",
    "}\n",
    "\n",
    "\n",
    "VAE_params = {\n",
    "    \"dim_x\": dim_x,\n",
    "    \"dim_z\": dim_z,\n",
    "    \"dim_u\": dim_u,\n",
    "    \"dim_N\": dim_N,\n",
    "    \"rnn_params\": prior_params,\n",
    "}\n",
    "vae = VAE(VAE_params)"
   ]
  },
  {
   "cell_type": "code",
   "execution_count": null,
   "id": "be517361",
   "metadata": {},
   "outputs": [],
   "source": [
    "import torch"
   ]
  },
  {
   "cell_type": "code",
   "execution_count": null,
   "id": "91270e9f",
   "metadata": {},
   "outputs": [],
   "source": [
    "v = torch.zeros(3, 1, 4, 1)\n",
    "z = torch.zeros(3, 10, 4, 10)\n",
    "torch.concat([(v.repeat(*([1] * len(v.shape[:-1])), z.shape[-1])), z], dim=1).shape"
   ]
  },
  {
   "cell_type": "code",
   "execution_count": null,
   "id": "e0bfc852",
   "metadata": {},
   "outputs": [],
   "source": [
    "# Train\n",
    "\n",
    "train_VAE(\n",
    "    vae,\n",
    "    training_params,\n",
    "    task,\n",
    "    sync_wandb=wandb,\n",
    "    out_dir=model_dir,\n",
    "    fname=None,\n",
    "    store_train_stats=False,\n",
    ")"
   ]
  },
  {
   "cell_type": "code",
   "execution_count": null,
   "id": "bf64f50b",
   "metadata": {},
   "outputs": [],
   "source": [
    "save_model(vae, training_params, task_params, name=model_dir + \"rdm_student2\")"
   ]
  },
  {
   "cell_type": "code",
   "execution_count": null,
   "id": "8a8f5dc4",
   "metadata": {},
   "outputs": [],
   "source": []
  }
 ],
 "metadata": {
  "kernelspec": {
   "display_name": "smc_rnn_env",
   "language": "python",
   "name": "python3"
  },
  "language_info": {
   "codemirror_mode": {
    "name": "ipython",
    "version": 3
   },
   "file_extension": ".py",
   "mimetype": "text/x-python",
   "name": "python",
   "nbconvert_exporter": "python",
   "pygments_lexer": "ipython3",
   "version": "3.9.19"
  },
  "toc": {
   "base_numbering": 1,
   "nav_menu": {},
   "number_sections": true,
   "sideBar": true,
   "skip_h1_title": false,
   "title_cell": "Table of Contents",
   "title_sidebar": "Contents",
   "toc_cell": false,
   "toc_position": {},
   "toc_section_display": true,
   "toc_window_display": false
  }
 },
 "nbformat": 4,
 "nbformat_minor": 5
}
