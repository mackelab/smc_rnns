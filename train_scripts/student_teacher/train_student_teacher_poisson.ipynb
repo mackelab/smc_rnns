{
 "cells": [
  {
   "cell_type": "code",
   "execution_count": null,
   "id": "ea98285b",
   "metadata": {},
   "outputs": [],
   "source": [
    "import numpy as np\n",
    "import torch\n",
    "import sys\n",
    "\n",
    "sys.path.append(\"../../\")\n",
    "from vi_rnn.vae import VAE\n",
    "from vi_rnn.train import train_VAE\n",
    "from vi_rnn.datasets import SineWave, Oscillations_Poisson\n",
    "from torch.utils.data import DataLoader\n",
    "from py_rnn.model import RNN\n",
    "from vi_rnn.utils import *\n",
    "from py_rnn.train import train_rnn\n",
    "from py_rnn.train import save_rnn, load_rnn\n",
    "import matplotlib.pyplot as plt\n",
    "from vi_rnn.saving import save_model\n",
    "from py_rnn.default_params import get_default_params\n",
    "\n",
    "%matplotlib inline"
   ]
  },
  {
   "cell_type": "code",
   "execution_count": null,
   "id": "70755ec3",
   "metadata": {},
   "outputs": [],
   "source": [
    "train_teacher = False  # load already trained teacher model\n",
    "data_dir = \"../../data/student_teacher/\"  # store inferred model\n",
    "model_dir = \"../../models/students/\"  # store teacher RNN\n",
    "cuda = True  # toggle if GPU is available"
   ]
  },
  {
   "cell_type": "code",
   "execution_count": null,
   "id": "594e63cf",
   "metadata": {},
   "outputs": [],
   "source": [
    "# initialise teacher RNN\n",
    "model_params, training_params = get_default_params(n_rec=40)\n",
    "training_params[\"l2_rates_reg\"] = 0.1\n",
    "rnn_osc = RNN(model_params)\n",
    "\n",
    "\n",
    "# initialise teacher RNN's task\n",
    "task_params = {\n",
    "    \"n_trials\": 50,\n",
    "    \"dur\": 200,\n",
    "    \"n_cycles\": 4,\n",
    "}\n",
    "sine_task = SineWave(task_params)\n",
    "x, y, m = sine_task[0]"
   ]
  },
  {
   "cell_type": "code",
   "execution_count": null,
   "id": "9f222ea2",
   "metadata": {},
   "outputs": [],
   "source": [
    "# Plot teacher task\n",
    "plt.plot(x, label=\"input\")\n",
    "plt.plot(y, label=\"output\")\n",
    "plt.plot(m, label=\"mask\")\n",
    "plt.legend()"
   ]
  },
  {
   "cell_type": "code",
   "execution_count": null,
   "id": "f556bac0",
   "metadata": {},
   "outputs": [],
   "source": [
    "if train_teacher:\n",
    "    losses, reg_losses = train_rnn(\n",
    "        rnn_osc, training_params, sine_task, sync_wandb=False\n",
    "    )\n",
    "    save_rnn(\n",
    "        data_dir + \"osc_rnn_poisson_new\",\n",
    "        rnn_osc,\n",
    "        model_params,\n",
    "        task_params,\n",
    "        training_params,\n",
    "    )\n",
    "else:\n",
    "    rnn_osc, model_params, task_params, training_params = load_rnn(\n",
    "        data_dir + \"/osc_rnn_poisson\"\n",
    "    )"
   ]
  },
  {
   "cell_type": "code",
   "execution_count": null,
   "id": "1d2ea56d",
   "metadata": {},
   "outputs": [],
   "source": [
    "# Extract weights\n",
    "U, V, B = extract_orth_basis_rnn(rnn_osc)"
   ]
  },
  {
   "cell_type": "code",
   "execution_count": null,
   "id": "b0808ed9",
   "metadata": {},
   "outputs": [],
   "source": [
    "# plot example trial plus the latent signal underlying it\n",
    "task_params = {\n",
    "    \"dur\": 200,\n",
    "    \"n_trials\": 400,\n",
    "    \"name\": \"Sine\",\n",
    "    \"n_neurons\": 40,\n",
    "    \"out\": \"currents\",\n",
    "    \"w\": 0.1,\n",
    "    \"R_z\": 0.2,\n",
    "    \"Bias\": -3,\n",
    "    \"B\": 4,\n",
    "    \"non_lin\": torch.nn.ReLU(),\n",
    "    \"obs_rectify\": \"softplus\",\n",
    "}\n",
    "task = Oscillations_Poisson(task_params, U, V, B)\n",
    "batch_size = 10\n",
    "data_loader = DataLoader(task, batch_size=batch_size, shuffle=True)"
   ]
  },
  {
   "cell_type": "code",
   "execution_count": null,
   "id": "f47e38c6",
   "metadata": {},
   "outputs": [],
   "source": [
    "# np.save(\"../../tutorial/tutorial_data/spiking_data_trials.npy\",task.data)"
   ]
  },
  {
   "cell_type": "code",
   "execution_count": null,
   "id": "d387fbbf",
   "metadata": {},
   "outputs": [],
   "source": [
    "# plot example trial plus the latent signal underlying it\n",
    "\n",
    "tr_i = 0\n",
    "rates = task.data[tr_i]\n",
    "logrates = task.rates[tr_i]\n",
    "latent_code = task.latents[tr_i]\n",
    "fig, ax = plt.subplots(3, figsize=(7, 5))\n",
    "indices = np.argsort(np.argmax(logrates[:, -50:], 1))\n",
    "im = ax[2].imshow(rates[indices], aspect=\"auto\", interpolation=\"none\", cmap=\"Greys\")\n",
    "fig.colorbar(im)\n",
    "for i, ind in enumerate(indices.numpy()):\n",
    "    ax[1].plot(logrates[ind], alpha=np.linspace(0.1, 1, 40)[i], color=\"black\")\n",
    "\n",
    "ax[0].plot(latent_code[0])\n",
    "ax[0].plot(latent_code[1])\n",
    "ax[2].set_xlabel(\"time steps\")\n",
    "ax[0].set_xticks([])\n",
    "ax[1].set_xticks([])\n",
    "ax[2].set_ylabel(\"neurons\")\n",
    "ax[1].set_ylabel(\"neuron activity\")\n",
    "ax[0].set_ylabel(\"latents\")\n",
    "\n",
    "ax[0].spines[[\"right\", \"top\"]].set_visible(False)\n",
    "ax[1].spines[[\"right\", \"top\"]].set_visible(False)\n",
    "ax[2].spines[[\"right\", \"top\"]].set_visible(False)"
   ]
  },
  {
   "cell_type": "code",
   "execution_count": null,
   "id": "8c48e4f9",
   "metadata": {},
   "outputs": [],
   "source": [
    "print(\n",
    "    \"mean spike rate in Hz, assuming 20 ms bins: \" + str(task.data.float().mean() * 50)\n",
    ")"
   ]
  },
  {
   "cell_type": "markdown",
   "id": "4e40ab22",
   "metadata": {},
   "source": [
    "## Create a VAE RNN setup"
   ]
  },
  {
   "cell_type": "code",
   "execution_count": null,
   "id": "d465fb1a",
   "metadata": {},
   "outputs": [],
   "source": [
    "# Initialise VI / student setup\n",
    "\n",
    "dim_z = 2\n",
    "dim_N = 40\n",
    "dim_x = task_params[\"n_neurons\"]\n",
    "bs = 10\n",
    "cuda = False\n",
    "n_epochs = 1500\n",
    "wandb = False\n",
    "# initialise encoder\n",
    "enc_params = {\n",
    "    \"init_kernel_sizes\": [21, 11, 1],\n",
    "    \"nonlinearity\": \"gelu\",\n",
    "    \"n_channels\": [64, 64],\n",
    "    \"init_scale\": 0.1,\n",
    "    \"constant_var\": False,\n",
    "    \"padding_mode\": \"circular\",\n",
    "    \"padding_location\": \"causal\",\n",
    "}\n",
    "\n",
    "\n",
    "# initialise prior\n",
    "rnn_params = {\n",
    "     \"transition\": \"low_rank\",  \n",
    "    \"observation\": \"one_to_one\", \n",
    "    \"train_noise_z\": True,\n",
    "    \"train_noise_z_t0\": True,\n",
    "    \"init_noise_z\": 0.1,\n",
    "    \"init_noise_z_t0\": 1,\n",
    "    \"noise_z\": \"diag\",\n",
    "    \"noise_z_t0\": \"diag\",\n",
    "    \"identity_readout\": True,\n",
    "    \"activation\": \"relu\",\n",
    "    \"decay\": 0.9,\n",
    "    \"readout_from\": task_params[\"out\"],\n",
    "    \"train_obs_bias\": True,\n",
    "    \"train_obs_weights\": True,\n",
    "    \"train_neuron_bias\": True,\n",
    "    \"weight_dist\": \"uniform\",\n",
    "    \"weight_scaler\": 1,  # /dim_N,\n",
    "    \"initial_state\": \"trainable\",\n",
    "    \"obs_nonlinearity\": task_params[\"obs_rectify\"],\n",
    "    \"obs_likelihood\": \"Poisson\",\n",
    "    \"simulate_input\": False,}\n",
    "\n",
    "\n",
    "training_params = {\n",
    "    \"lr\": 1e-3,\n",
    "    \"lr_end\": 1e-5,\n",
    "    \"grad_norm\": 0,\n",
    "    \"n_epochs\": n_epochs,\n",
    "    \"eval_epochs\": 50,\n",
    "    \"batch_size\": bs,\n",
    "    \"cuda\": cuda,\n",
    "    \"smoothing\": 20,\n",
    "    \"freq_cut_off\": 10000,\n",
    "    \"k\": 64,\n",
    "    \"loss_f\": \"smc\",\n",
    "    \"resample\": \"systematic\",  # , multinomial or none\"\n",
    "    \"run_eval\": True,\n",
    "    \"smooth_at_eval\": False,\n",
    "    \"t_forward\": 0,\n",
    "    \"init_state_eval\": \"posterior_sample\",\n",
    "\n",
    "}\n",
    "\n",
    "\n",
    "VAE_params = {\n",
    "    \"dim_x\": dim_x,\n",
    "    \"dim_z\": dim_z,\n",
    "    \"dim_N\": dim_N,\n",
    "    \"enc_architecture\": \"CNN\",\n",
    "    \"enc_params\": enc_params,\n",
    "    \"rnn_params\": rnn_params,\n",
    "}\n",
    "vae = VAE(VAE_params)"
   ]
  },
  {
   "cell_type": "markdown",
   "id": "86916eb6",
   "metadata": {},
   "source": [
    "## Train the VAE"
   ]
  },
  {
   "cell_type": "code",
   "execution_count": null,
   "id": "e0bfc852",
   "metadata": {},
   "outputs": [],
   "source": [
    "# Train\n",
    "wandb = False\n",
    "train_VAE(vae, training_params, task, sync_wandb=wandb, out_dir=model_dir, fname=None)"
   ]
  },
  {
   "cell_type": "code",
   "execution_count": null,
   "id": "a7f522cc",
   "metadata": {},
   "outputs": [],
   "source": [
    "save_model(vae, training_params, task_params, name=model_dir + \"Sine_40_1000_new\")"
   ]
  }
 ],
 "metadata": {
  "kernelspec": {
   "display_name": "smc_rnn_env",
   "language": "python",
   "name": "python3"
  },
  "language_info": {
   "codemirror_mode": {
    "name": "ipython",
    "version": 3
   },
   "file_extension": ".py",
   "mimetype": "text/x-python",
   "name": "python",
   "nbconvert_exporter": "python",
   "pygments_lexer": "ipython3",
   "version": "3.9.19"
  },
  "toc": {
   "base_numbering": 1,
   "nav_menu": {},
   "number_sections": true,
   "sideBar": true,
   "skip_h1_title": false,
   "title_cell": "Table of Contents",
   "title_sidebar": "Contents",
   "toc_cell": false,
   "toc_position": {},
   "toc_section_display": true,
   "toc_window_display": false
  }
 },
 "nbformat": 4,
 "nbformat_minor": 5
}
