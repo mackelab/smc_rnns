{
 "cells": [
  {
   "cell_type": "code",
   "execution_count": null,
   "id": "ea98285b",
   "metadata": {},
   "outputs": [],
   "source": [
    "import numpy as np\n",
    "import torch\n",
    "import torch.nn as nn\n",
    "from torch.utils.data import Dataset\n",
    "import sys, os\n",
    "\n",
    "sys.path.append(\"../../\")\n",
    "from vi_rnn.vae import VAE\n",
    "from vi_rnn.train import train_VAE\n",
    "from vi_rnn.datasets import SineWave, Oscillations_Cont\n",
    "from torch.utils.data import Dataset, DataLoader\n",
    "from py_rnn.model import RNN, predict\n",
    "from vi_rnn.utils import *\n",
    "from py_rnn.train import train_rnn\n",
    "from py_rnn.train import save_rnn, load_rnn\n",
    "import matplotlib.pyplot as plt\n",
    "from vi_rnn.saving import save_model\n",
    "from py_rnn.default_params import get_default_params\n",
    "import matplotlib as mpl\n",
    "\n",
    "%matplotlib inline"
   ]
  },
  {
   "cell_type": "code",
   "execution_count": null,
   "id": "218e54cf",
   "metadata": {},
   "outputs": [],
   "source": [
    "train_teacher = False  # load already trained teacher model\n",
    "data_dir = \"../../data/student_teacher/\"  # store inferred model\n",
    "model_dir = \"../../models/students/\"  # store teacher RNN\n",
    "cuda = True  # toggle if GPU is available"
   ]
  },
  {
   "cell_type": "code",
   "execution_count": null,
   "id": "c991c226",
   "metadata": {},
   "outputs": [],
   "source": [
    "# initialise teacher RNN\n",
    "model_params, training_params = get_default_params(n_rec=20)\n",
    "training_params[\"l2_rates_reg\"] = 0.1\n",
    "rnn_osc = RNN(model_params)\n",
    "\n",
    "\n",
    "# initialise teacher RNN's task\n",
    "task_params = {\n",
    "    \"n_trials\": 50,\n",
    "    \"dur\": 200,\n",
    "    \"n_cycles\": 4,\n",
    "}\n",
    "sine_task = SineWave(task_params)\n",
    "x, y, m = sine_task[0]"
   ]
  },
  {
   "cell_type": "code",
   "execution_count": null,
   "id": "ae04d4cb",
   "metadata": {},
   "outputs": [],
   "source": [
    "# Plot teacher task\n",
    "plt.plot(x, label=\"input\")\n",
    "plt.plot(y, label=\"output\")\n",
    "plt.plot(m, label=\"mask\")\n",
    "plt.legend()"
   ]
  },
  {
   "cell_type": "code",
   "execution_count": null,
   "id": "594e63cf",
   "metadata": {},
   "outputs": [],
   "source": [
    "# train or load teacher RNN\n",
    "\n",
    "if train_teacher:\n",
    "    losses, reg_losses = train_rnn(\n",
    "        rnn_osc, training_params, sine_task, sync_wandb=False\n",
    "    )\n",
    "    save_rnn(\n",
    "        data_dir + \"osc_rnn_new\", rnn_osc, model_params, task_params, training_params\n",
    "    )\n",
    "else:\n",
    "    rnn_osc, model_params, task_params, training_params = load_rnn(data_dir + \"osc_rnn\")"
   ]
  },
  {
   "cell_type": "code",
   "execution_count": null,
   "id": "9eaf2e0b",
   "metadata": {},
   "outputs": [],
   "source": [
    "# plot example output\n",
    "rates, pred = predict(rnn_osc, torch.zeros(1000, 1))\n",
    "fig, axs = plt.subplots(2, figsize=(4, 2))\n",
    "axs[0].plot(pred[0, :, :])\n",
    "axs[0].set_xlabel(\"timesteps\")\n",
    "axs[1].plot(rnn_osc.rnn.nonlinearity(torch.from_numpy(rates[0])));"
   ]
  },
  {
   "cell_type": "code",
   "execution_count": null,
   "id": "3a045d61",
   "metadata": {},
   "outputs": [],
   "source": [
    "# Extract weights\n",
    "U, V, B = extract_orth_basis_rnn(rnn_osc)"
   ]
  },
  {
   "cell_type": "code",
   "execution_count": null,
   "id": "b0808ed9",
   "metadata": {},
   "outputs": [],
   "source": [
    "# plot example trial plus the latent signal underlying it\n",
    "batch_size = 4\n",
    "task_params = {\n",
    "    \"dur\": 75,\n",
    "    \"n_trials\": 200,\n",
    "    \"name\": \"Sine\",\n",
    "    \"n_neurons\": 20,\n",
    "    \"out\": \"currents\",\n",
    "    \"R_x\": 0.1,\n",
    "    \"R_z\": 0.2,\n",
    "    \"non_lin\": nn.ReLU(),\n",
    "}\n",
    "task = Oscillations_Cont(task_params, U, V, B)\n",
    "data_loader = DataLoader(task, batch_size=batch_size, shuffle=True)"
   ]
  },
  {
   "cell_type": "code",
   "execution_count": null,
   "id": "f7de9c04",
   "metadata": {},
   "outputs": [],
   "source": [
    "tr_i = 0\n",
    "rates = task.data[tr_i]\n",
    "latent_code = task.latents[tr_i]\n",
    "fig, ax = plt.subplots(1, 2, figsize=(4, 2))\n",
    "T1 = 0\n",
    "T2 = -1\n",
    "ax[0].plot(latent_code[0, T1:T2].numpy(), latent_code[1, T1:T2].numpy())\n",
    "ax[0].spines[[\"right\", \"top\"]].set_visible(False)\n",
    "ax[0].set_box_aspect(1)\n",
    "ax[0].set_title(\"latent\")\n",
    "T1 = 0\n",
    "T2 = -1\n",
    "n_obs = 5\n",
    "for i in range(n_obs):\n",
    "    ax[1].plot(rates[i, T1:T2].T + i * 2)\n",
    "ax[1].spines[[\"right\", \"top\"]].set_visible(False)\n",
    "ax[1].set_title(\"observed\")"
   ]
  },
  {
   "cell_type": "code",
   "execution_count": null,
   "id": "d465fb1a",
   "metadata": {},
   "outputs": [],
   "source": [
    "# Initialise VI / student setup\n",
    "\n",
    "dim_z = 2\n",
    "dim_N = task_params[\"n_neurons\"]\n",
    "dim_x = task_params[\"n_neurons\"]\n",
    "bs = 10\n",
    "cuda = False\n",
    "n_epochs = 1000\n",
    "wandb = False\n",
    "# initialise encoder\n",
    "\n",
    "\n",
    "# initialise prior\n",
    "rnn_params = {\n",
    "     \"transition\": \"low_rank\",  \n",
    "    \"observation\": \"one_to_one\",  \n",
    "    \"train_noise_x\": True,\n",
    "    \"train_noise_z\": True,\n",
    "    \"train_noise_z_t0\": True,\n",
    "    \"init_noise_z\": 0.1,\n",
    "    \"init_noise_z_t0\": 1,\n",
    "    \"init_noise_x\": task_params[\"R_x\"],\n",
    "    \"noise_z\": \"full\",\n",
    "    \"noise_x\": \"diag\",\n",
    "    \"noise_z_t0\": \"full\",\n",
    "    \"identity_readout\": True,\n",
    "    \"activation\": \"relu\",\n",
    "    \"decay\": 0.7,\n",
    "    \"readout_from\": task_params[\"out\"],\n",
    "    \"train_obs_bias\": False,\n",
    "    \"train_obs_weights\": False,\n",
    "    \"train_neuron_bias\": True,\n",
    "    \"weight_dist\": \"uniform\",\n",
    "    \"weight_scaler\": 1,  # /dim_N,\n",
    "    \"initial_state\": \"trainable\",\n",
    "    \"obs_nonlinearity\": \"identity\",\n",
    "    \"obs_likelihood\": \"Gauss\",\n",
    "    \"simulate_input\": True,}\n",
    "\n",
    "\n",
    "training_params = {\n",
    "    \"lr\": 1e-3,\n",
    "    \"lr_end\": 1e-5,\n",
    "    \"grad_norm\": 0,\n",
    "    \"n_epochs\": n_epochs,\n",
    "    \"eval_epochs\": 50,\n",
    "    \"batch_size\": bs,\n",
    "    \"cuda\": cuda,\n",
    "    \"smoothing\": 20,\n",
    "    \"freq_cut_off\": 10000,\n",
    "    \"k\": 64,\n",
    "    \"loss_f\": \"opt_smc\",\n",
    "    \"resample\": \"systematic\",  # , multinomial or none\"\n",
    "    \"run_eval\": True,\n",
    "    \"smooth_at_eval\": False,\n",
    "    \"init_state_eval\": \"posterior_sample\",\n",
    "\n",
    "}\n",
    "\n",
    "\n",
    "VAE_params = {\n",
    "    \"dim_x\": dim_x,\n",
    "    \"dim_z\": dim_z,\n",
    "    \"dim_N\": dim_N,\n",
    "    \"rnn_params\": rnn_params,\n",
    "}\n",
    "seed = 1\n",
    "np.random.seed(seed)\n",
    "torch.manual_seed(seed)\n",
    "torch.cuda.manual_seed(seed)\n",
    "vae = VAE(VAE_params)"
   ]
  },
  {
   "cell_type": "code",
   "execution_count": null,
   "id": "e0bfc852",
   "metadata": {},
   "outputs": [],
   "source": [
    "# Train\n",
    "# wandb=True\n",
    "train_VAE(vae, training_params, task, sync_wandb=wandb, out_dir=model_dir, fname=None)"
   ]
  },
  {
   "cell_type": "code",
   "execution_count": null,
   "id": "6e8385da",
   "metadata": {},
   "outputs": [],
   "source": [
    "save_model(vae, training_params, task_params, name=model_dir + \"SW20_1000_new2\")"
   ]
  },
  {
   "cell_type": "code",
   "execution_count": null,
   "id": "6b2f8903",
   "metadata": {},
   "outputs": [],
   "source": [
    "print(\"True noise: \" + str(task_params[\"R_z\"]))\n",
    "print(\"Inferred noise:\")\n",
    "vae = orthogonalise_network(vae)\n",
    "print(vae.rnn.std_embed_z(vae.rnn.R_z))\n"
   ]
  },
  {
   "cell_type": "code",
   "execution_count": null,
   "id": "101064aa",
   "metadata": {},
   "outputs": [],
   "source": []
  }
 ],
 "metadata": {
  "kernelspec": {
   "display_name": "smc_rnn_env",
   "language": "python",
   "name": "python3"
  },
  "language_info": {
   "codemirror_mode": {
    "name": "ipython",
    "version": 3
   },
   "file_extension": ".py",
   "mimetype": "text/x-python",
   "name": "python",
   "nbconvert_exporter": "python",
   "pygments_lexer": "ipython3",
   "version": "3.9.19"
  },
  "toc": {
   "base_numbering": 1,
   "nav_menu": {},
   "number_sections": true,
   "sideBar": true,
   "skip_h1_title": false,
   "title_cell": "Table of Contents",
   "title_sidebar": "Contents",
   "toc_cell": false,
   "toc_position": {},
   "toc_section_display": true,
   "toc_window_display": false
  }
 },
 "nbformat": 4,
 "nbformat_minor": 5
}
